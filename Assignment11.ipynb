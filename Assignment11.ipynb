{
  "nbformat": 4,
  "nbformat_minor": 0,
  "metadata": {
    "colab": {
      "provenance": [],
      "authorship_tag": "ABX9TyMJPGOHVm3AtvLIqeThFJ+z",
      "include_colab_link": true
    },
    "kernelspec": {
      "name": "python3",
      "display_name": "Python 3"
    },
    "language_info": {
      "name": "python"
    }
  },
  "cells": [
    {
      "cell_type": "markdown",
      "metadata": {
        "id": "view-in-github",
        "colab_type": "text"
      },
      "source": [
        "<a href=\"https://colab.research.google.com/github/aaabbbdddeee/MAT_422/blob/main/Assignment11.ipynb\" target=\"_parent\"><img src=\"https://colab.research.google.com/assets/colab-badge.svg\" alt=\"Open In Colab\"/></a>"
      ]
    },
    {
      "cell_type": "markdown",
      "source": [
        "**Neural Networks**"
      ],
      "metadata": {
        "id": "FOmfldiD98Bi"
      }
    },
    {
      "cell_type": "markdown",
      "source": [
        "Neural networks simulate the workings of the human brain using layers of interconnected nodes. They learn by adjusting weights (w) and biases (b) to predict outputs (ŷ) from inputs (x), utilizing an activation function (σ) to introduce non-linearity. The process of training involves:"
      ],
      "metadata": {
        "id": "b4LvV73X_Ub0"
      }
    },
    {
      "cell_type": "markdown",
      "source": [
        "Outputs are calculated as ŷ = σ(w1x1 + w2x2 + b), where w1, w2 are weights, x1, x2 are inputs, and b is the bias. This is extended to complex networks with many layers, using matrices for weights (W) and biases (b) for efficiency."
      ],
      "metadata": {
        "id": "6VBVd0WH_XlZ"
      }
    },
    {
      "cell_type": "code",
      "source": [
        "import tensorflow as tf"
      ],
      "metadata": {
        "id": "b1CBNbi5BIUW"
      },
      "execution_count": 2,
      "outputs": []
    },
    {
      "cell_type": "code",
      "source": [
        "mnist = tf.keras.datasets.mnist\n",
        "\n",
        "(x_train, y_train), (x_test, y_test) = mnist.load_data()\n",
        "x_train, x_test = x_train / 255.0, x_test / 255.0"
      ],
      "metadata": {
        "colab": {
          "base_uri": "https://localhost:8080/"
        },
        "id": "raUuZOnyA-nh",
        "outputId": "5cf8106e-a50a-4e6b-88b4-3ada571423ba"
      },
      "execution_count": 3,
      "outputs": [
        {
          "output_type": "stream",
          "name": "stdout",
          "text": [
            "Downloading data from https://storage.googleapis.com/tensorflow/tf-keras-datasets/mnist.npz\n",
            "11490434/11490434 [==============================] - 0s 0us/step\n"
          ]
        }
      ]
    },
    {
      "cell_type": "code",
      "source": [
        "model = tf.keras.models.Sequential([\n",
        "  tf.keras.layers.Flatten(input_shape=(28, 28)),\n",
        "  tf.keras.layers.Dense(128, activation='relu'),\n",
        "  tf.keras.layers.Dropout(0.2),\n",
        "  tf.keras.layers.Dense(10)\n",
        "])"
      ],
      "metadata": {
        "id": "xvbNorTXBQ-w"
      },
      "execution_count": 5,
      "outputs": []
    },
    {
      "cell_type": "code",
      "source": [
        "predictions = model(x_train[:1]).numpy()\n",
        "predictions"
      ],
      "metadata": {
        "colab": {
          "base_uri": "https://localhost:8080/"
        },
        "id": "W5bCCHhBBWjR",
        "outputId": "887c92e1-4e7c-49b0-9a10-d857542ccf14"
      },
      "execution_count": 6,
      "outputs": [
        {
          "output_type": "execute_result",
          "data": {
            "text/plain": [
              "array([[-0.09432407,  0.00582404, -1.196496  , -0.6683928 , -1.1084404 ,\n",
              "        -1.435814  ,  0.1227283 , -0.32034197, -0.21727523,  0.7355907 ]],\n",
              "      dtype=float32)"
            ]
          },
          "metadata": {},
          "execution_count": 6
        }
      ]
    },
    {
      "cell_type": "code",
      "source": [
        "tf.nn.softmax(predictions).numpy()"
      ],
      "metadata": {
        "colab": {
          "base_uri": "https://localhost:8080/"
        },
        "id": "QUv1AbVjBZA_",
        "outputId": "b2599e32-ec83-420c-a121-f5ed87f418ff"
      },
      "execution_count": 9,
      "outputs": [
        {
          "output_type": "execute_result",
          "data": {
            "text/plain": [
              "array([[0.11309104, 0.12500343, 0.03756306, 0.06369616, 0.0410207 ,\n",
              "        0.02956831, 0.14050533, 0.09021315, 0.10000717, 0.25933167]],\n",
              "      dtype=float32)"
            ]
          },
          "metadata": {},
          "execution_count": 9
        }
      ]
    },
    {
      "cell_type": "code",
      "source": [
        "loss_fn = tf.keras.losses.SparseCategoricalCrossentropy(from_logits=True)"
      ],
      "metadata": {
        "id": "W4MWZ0wzBl7Q"
      },
      "execution_count": 8,
      "outputs": []
    },
    {
      "cell_type": "code",
      "source": [
        "loss_fn(y_train[:1], predictions).numpy()"
      ],
      "metadata": {
        "colab": {
          "base_uri": "https://localhost:8080/"
        },
        "id": "7ugv0DAEBql5",
        "outputId": "d36a16f8-9938-470a-e80d-667b25bac02a"
      },
      "execution_count": 10,
      "outputs": [
        {
          "output_type": "execute_result",
          "data": {
            "text/plain": [
              "3.5210524"
            ]
          },
          "metadata": {},
          "execution_count": 10
        }
      ]
    },
    {
      "cell_type": "code",
      "source": [
        "model.compile(optimizer='adam',\n",
        "              loss=loss_fn,\n",
        "              metrics=['accuracy'])"
      ],
      "metadata": {
        "id": "tSKOe1N2BtSQ"
      },
      "execution_count": 12,
      "outputs": []
    },
    {
      "cell_type": "code",
      "source": [
        "model.fit(x_train, y_train, epochs=5)"
      ],
      "metadata": {
        "colab": {
          "base_uri": "https://localhost:8080/"
        },
        "id": "a-Q5z6zRBw5W",
        "outputId": "f9964594-ed53-4a49-a4b5-8c6dd19570d9"
      },
      "execution_count": 13,
      "outputs": [
        {
          "output_type": "stream",
          "name": "stdout",
          "text": [
            "Epoch 1/5\n",
            "1875/1875 [==============================] - 7s 3ms/step - loss: 0.2984 - accuracy: 0.9135\n",
            "Epoch 2/5\n",
            "1875/1875 [==============================] - 8s 4ms/step - loss: 0.1468 - accuracy: 0.9570\n",
            "Epoch 3/5\n",
            "1875/1875 [==============================] - 7s 3ms/step - loss: 0.1069 - accuracy: 0.9679\n",
            "Epoch 4/5\n",
            "1875/1875 [==============================] - 8s 4ms/step - loss: 0.0880 - accuracy: 0.9730\n",
            "Epoch 5/5\n",
            "1875/1875 [==============================] - 7s 4ms/step - loss: 0.0756 - accuracy: 0.9757\n"
          ]
        },
        {
          "output_type": "execute_result",
          "data": {
            "text/plain": [
              "<keras.src.callbacks.History at 0x7eef539fd4b0>"
            ]
          },
          "metadata": {},
          "execution_count": 13
        }
      ]
    },
    {
      "cell_type": "code",
      "source": [
        "model.evaluate(x_test,  y_test, verbose=2)"
      ],
      "metadata": {
        "colab": {
          "base_uri": "https://localhost:8080/"
        },
        "id": "GAQOLFGtCFra",
        "outputId": "cd02694d-2d66-46f7-fe8f-7ec25244c4c6"
      },
      "execution_count": 14,
      "outputs": [
        {
          "output_type": "stream",
          "name": "stdout",
          "text": [
            "313/313 - 1s - loss: 0.0660 - accuracy: 0.9789 - 1s/epoch - 4ms/step\n"
          ]
        },
        {
          "output_type": "execute_result",
          "data": {
            "text/plain": [
              "[0.06598321348428726, 0.9789000153541565]"
            ]
          },
          "metadata": {},
          "execution_count": 14
        }
      ]
    },
    {
      "cell_type": "code",
      "source": [
        "probability_model = tf.keras.Sequential([\n",
        "  model,\n",
        "  tf.keras.layers.Softmax()\n",
        "])"
      ],
      "metadata": {
        "id": "xlPuWO4jCI62"
      },
      "execution_count": 15,
      "outputs": []
    },
    {
      "cell_type": "code",
      "source": [
        "probability_model(x_test[:5])"
      ],
      "metadata": {
        "colab": {
          "base_uri": "https://localhost:8080/"
        },
        "id": "60NxedHoCNLO",
        "outputId": "7963194a-a1b7-4a55-a20a-8ebcd1638e10"
      },
      "execution_count": 16,
      "outputs": [
        {
          "output_type": "execute_result",
          "data": {
            "text/plain": [
              "<tf.Tensor: shape=(5, 10), dtype=float32, numpy=\n",
              "array([[1.55520866e-07, 5.51367663e-09, 2.65564067e-05, 1.87117184e-04,\n",
              "        1.16173095e-11, 1.90204261e-07, 1.48565188e-12, 9.99764502e-01,\n",
              "        1.25213921e-06, 2.01855037e-05],\n",
              "       [3.73133382e-08, 8.10380268e-04, 9.99187052e-01, 2.58813930e-06,\n",
              "        8.99595974e-17, 7.89981680e-09, 7.28191507e-09, 4.71689609e-14,\n",
              "        1.51645674e-09, 1.69713374e-16],\n",
              "       [7.68697745e-08, 9.99570906e-01, 2.96125618e-05, 7.08992138e-06,\n",
              "        1.25351489e-05, 1.07191618e-05, 1.93240467e-05, 2.30875827e-04,\n",
              "        1.17555246e-04, 1.26958753e-06],\n",
              "       [9.99897599e-01, 1.12373939e-07, 5.69502809e-05, 6.76807446e-08,\n",
              "        2.16258763e-06, 4.93274774e-06, 1.91501222e-05, 1.38305531e-05,\n",
              "        4.25887464e-07, 4.78305356e-06],\n",
              "       [7.49646733e-06, 4.24993063e-09, 1.04684368e-05, 1.92755749e-08,\n",
              "        9.96633589e-01, 1.66633208e-06, 2.52797986e-06, 1.92176129e-04,\n",
              "        4.50147610e-07, 3.15167313e-03]], dtype=float32)>"
            ]
          },
          "metadata": {},
          "execution_count": 16
        }
      ]
    }
  ]
}