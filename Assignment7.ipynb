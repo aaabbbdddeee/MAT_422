{
  "nbformat": 4,
  "nbformat_minor": 0,
  "metadata": {
    "colab": {
      "provenance": [],
      "authorship_tag": "ABX9TyOVRFz5Wka9Ux+WipkdqFy5",
      "include_colab_link": true
    },
    "kernelspec": {
      "name": "python3",
      "display_name": "Python 3"
    },
    "language_info": {
      "name": "python"
    }
  },
  "cells": [
    {
      "cell_type": "markdown",
      "metadata": {
        "id": "view-in-github",
        "colab_type": "text"
      },
      "source": [
        "<a href=\"https://colab.research.google.com/github/aaabbbdddeee/MAT_422/blob/main/Assignment7.ipynb\" target=\"_parent\"><img src=\"https://colab.research.google.com/assets/colab-badge.svg\" alt=\"Open In Colab\"/></a>"
      ]
    },
    {
      "cell_type": "markdown",
      "source": [
        "*Continuity and Differentiation*"
      ],
      "metadata": {
        "id": "5jvPyzvNKRrV"
      }
    },
    {
      "cell_type": "code",
      "source": [
        "# import library\n",
        "import sympy as sym\n",
        "\n",
        "# pythonic math expressions: add spaces, use single quotes and lowercases\n",
        "# declaring variables\n",
        "x, y, z, a, b, c = sym.symbols('x, y, z, a, b, c')\n",
        "\n",
        "f = sym.sin(x) / x\n",
        "print(sym.limit(f, x, 0))\n",
        "\n",
        "n = sym.symbols('n')\n",
        "print(sym.limit(((n + 3) / (n + 2)) ** n, n, sym.oo)) # oo is mathematical infinity"
      ],
      "metadata": {
        "colab": {
          "base_uri": "https://localhost:8080/"
        },
        "id": "K0n5RG37KSY8",
        "outputId": "bf4f58e1-b0c5-47fb-974b-4820068b66e6"
      },
      "execution_count": 1,
      "outputs": [
        {
          "output_type": "stream",
          "name": "stdout",
          "text": [
            "1\n",
            "E\n"
          ]
        }
      ]
    },
    {
      "cell_type": "code",
      "source": [
        "# declaring variables\n",
        "x, y, z, a, b, c = sym.symbols('x, y, z, a, b, c')\n",
        "\n",
        "# we take the derivative using diff\n",
        "# diff (function, independent variable, number of derivatives)\n",
        "\n",
        "exp1 = sym.diff(sym.sin(2 * x), x)\n",
        "print('1st derivative w.r.t x: ', exp1)\n",
        "\n",
        "exp2 = sym.diff(sym.sin(2*x), x, 2)\n",
        "print('2nd derivative w.r.t x: ', exp2)\n",
        "\n",
        "exp3 = sym.diff(sym.sin(2*x), x, 3)\n",
        "print('3rd derivative w.r.t x: ', exp3)\n",
        "\n",
        "exp4 = sym.diff(sym.sin(x*y), x, 2, y, 3)\n",
        "print('\\n', exp4)"
      ],
      "metadata": {
        "colab": {
          "base_uri": "https://localhost:8080/"
        },
        "id": "rgZJgUTAKfFz",
        "outputId": "53a9131f-6a61-48bb-e51b-3685bbecf9a7"
      },
      "execution_count": 2,
      "outputs": [
        {
          "output_type": "stream",
          "name": "stdout",
          "text": [
            "1st derivative w.r.t x:  2*cos(2*x)\n",
            "2nd derivative w.r.t x:  -4*sin(2*x)\n",
            "3rd derivative w.r.t x:  -8*cos(2*x)\n",
            "\n",
            " x*(x**2*y**2*cos(x*y) + 6*x*y*sin(x*y) - 6*cos(x*y))\n"
          ]
        }
      ]
    },
    {
      "cell_type": "code",
      "source": [
        "from sympy import limit, Symbol\n",
        "x = Symbol('x')\n",
        "y = 1/x\n",
        "l = limit(y, x, 0)\n",
        "print(\"The Limit of the expression evalutates to:\",l)"
      ],
      "metadata": {
        "colab": {
          "base_uri": "https://localhost:8080/"
        },
        "id": "8d8BAxxfKtnF",
        "outputId": "9faf7234-3154-4b0d-bb9d-c05e490d2477"
      },
      "execution_count": 3,
      "outputs": [
        {
          "output_type": "stream",
          "name": "stdout",
          "text": [
            "The Limit of the expression evalutates to: oo\n"
          ]
        }
      ]
    },
    {
      "cell_type": "code",
      "source": [
        "import sympy as sp\n",
        "y = sp.Symbol('y')\n",
        "f = sp.sin(2*y)/y\n",
        "l = sp.limit(f,y,0)\n",
        "print(\"The Limit of the expression evalutates to:\",l)"
      ],
      "metadata": {
        "colab": {
          "base_uri": "https://localhost:8080/"
        },
        "id": "7pBquzxqKvOU",
        "outputId": "0cfd6bb6-db80-4343-8066-62d86108418f"
      },
      "execution_count": 4,
      "outputs": [
        {
          "output_type": "stream",
          "name": "stdout",
          "text": [
            "The Limit of the expression evalutates to: 2\n"
          ]
        }
      ]
    },
    {
      "cell_type": "code",
      "source": [
        "x = sym.symbols('x')\n",
        "f = x ** 4 + 7 * x ** 3 + 5 * x ** 2 - 17 * x + 3\n",
        "f"
      ],
      "metadata": {
        "colab": {
          "base_uri": "https://localhost:8080/",
          "height": 38
        },
        "id": "-IQnSfLrKyB4",
        "outputId": "bf375984-d915-494d-d292-f5f04a108823"
      },
      "execution_count": 5,
      "outputs": [
        {
          "output_type": "execute_result",
          "data": {
            "text/plain": [
              "x**4 + 7*x**3 + 5*x**2 - 17*x + 3"
            ],
            "text/latex": "$\\displaystyle x^{4} + 7 x^{3} + 5 x^{2} - 17 x + 3$"
          },
          "metadata": {},
          "execution_count": 5
        }
      ]
    },
    {
      "cell_type": "code",
      "source": [
        "f2 = sym.diff(f)\n",
        "f2"
      ],
      "metadata": {
        "colab": {
          "base_uri": "https://localhost:8080/",
          "height": 38
        },
        "id": "C027hO8XKz32",
        "outputId": "d421e9fa-5b2e-407e-a54b-550aa5104227"
      },
      "execution_count": 7,
      "outputs": [
        {
          "output_type": "execute_result",
          "data": {
            "text/plain": [
              "4*x**3 + 21*x**2 + 10*x - 17"
            ],
            "text/latex": "$\\displaystyle 4 x^{3} + 21 x^{2} + 10 x - 17$"
          },
          "metadata": {},
          "execution_count": 7
        }
      ]
    },
    {
      "cell_type": "code",
      "source": [
        "x, y, z = sym.symbols('x, y, z')\n",
        "exp6 = sym.exp(x * y * z)\n",
        "sym.diff(exp6, x)"
      ],
      "metadata": {
        "colab": {
          "base_uri": "https://localhost:8080/",
          "height": 38
        },
        "id": "D2h76RqfK46j",
        "outputId": "26a8ef87-2095-4ec6-87da-595656161b55"
      },
      "execution_count": 8,
      "outputs": [
        {
          "output_type": "execute_result",
          "data": {
            "text/plain": [
              "y*z*exp(x*y*z)"
            ],
            "text/latex": "$\\displaystyle y z e^{x y z}$"
          },
          "metadata": {},
          "execution_count": 8
        }
      ]
    },
    {
      "cell_type": "code",
      "source": [
        "sym.diff(exp6, x, x)"
      ],
      "metadata": {
        "colab": {
          "base_uri": "https://localhost:8080/",
          "height": 38
        },
        "id": "jxz74ZbKK6V4",
        "outputId": "c43b4036-c6bf-4068-c5b3-a54eb32dbf56"
      },
      "execution_count": 9,
      "outputs": [
        {
          "output_type": "execute_result",
          "data": {
            "text/plain": [
              "y**2*z**2*exp(x*y*z)"
            ],
            "text/latex": "$\\displaystyle y^{2} z^{2} e^{x y z}$"
          },
          "metadata": {},
          "execution_count": 9
        }
      ]
    },
    {
      "cell_type": "code",
      "source": [
        "sym.diff(exp6, x, y)"
      ],
      "metadata": {
        "colab": {
          "base_uri": "https://localhost:8080/",
          "height": 38
        },
        "id": "SBhQ3jhPK60H",
        "outputId": "a081b20b-0ced-4557-8625-2793433f70c6"
      },
      "execution_count": 10,
      "outputs": [
        {
          "output_type": "execute_result",
          "data": {
            "text/plain": [
              "z*(x*y*z + 1)*exp(x*y*z)"
            ],
            "text/latex": "$\\displaystyle z \\left(x y z + 1\\right) e^{x y z}$"
          },
          "metadata": {},
          "execution_count": 10
        }
      ]
    },
    {
      "cell_type": "code",
      "source": [
        "sym.diff(exp6, x, y, z)"
      ],
      "metadata": {
        "colab": {
          "base_uri": "https://localhost:8080/",
          "height": 38
        },
        "id": "n9g1LbPBK7Gt",
        "outputId": "59dae548-42a2-4d3e-b003-bcd43bb2f138"
      },
      "execution_count": 11,
      "outputs": [
        {
          "output_type": "execute_result",
          "data": {
            "text/plain": [
              "(x**2*y**2*z**2 + 3*x*y*z + 1)*exp(x*y*z)"
            ],
            "text/latex": "$\\displaystyle \\left(x^{2} y^{2} z^{2} + 3 x y z + 1\\right) e^{x y z}$"
          },
          "metadata": {},
          "execution_count": 11
        }
      ]
    },
    {
      "cell_type": "code",
      "source": [
        "import sympy as sym\n",
        "#Product Rule\n",
        "x = sym.Symbol('x')\n",
        "f = sym.exp(x)*sym.cos(x)\n",
        "derivative_f = f.diff(x)\n",
        "derivative_f"
      ],
      "metadata": {
        "colab": {
          "base_uri": "https://localhost:8080/",
          "height": 38
        },
        "id": "LPkjs0heK7ME",
        "outputId": "56dbd9bd-21c7-4350-f8bf-ee850a315cdd"
      },
      "execution_count": 12,
      "outputs": [
        {
          "output_type": "execute_result",
          "data": {
            "text/plain": [
              "-exp(x)*sin(x) + exp(x)*cos(x)"
            ],
            "text/latex": "$\\displaystyle - e^{x} \\sin{\\left(x \\right)} + e^{x} \\cos{\\left(x \\right)}$"
          },
          "metadata": {},
          "execution_count": 12
        }
      ]
    },
    {
      "cell_type": "code",
      "source": [
        "import sympy as sym\n",
        "\n",
        "#Derivatives of multivariable function\n",
        "\n",
        "x , y = sym.symbols('x y')\n",
        "f = x**4+x*y**4\n",
        "\n",
        "#Differentiating partially w.r.t x\n",
        "derivative_f = f.diff(x)\n",
        "derivative_f"
      ],
      "metadata": {
        "colab": {
          "base_uri": "https://localhost:8080/",
          "height": 38
        },
        "id": "gGK97lY6LKFo",
        "outputId": "927961b5-4b09-4089-9a9c-4bca7bd71401"
      },
      "execution_count": 13,
      "outputs": [
        {
          "output_type": "execute_result",
          "data": {
            "text/plain": [
              "4*x**3 + y**4"
            ],
            "text/latex": "$\\displaystyle 4 x^{3} + y^{4}$"
          },
          "metadata": {},
          "execution_count": 13
        }
      ]
    },
    {
      "cell_type": "code",
      "source": [
        "value = sym.integrate(sym.sin(x) * sym.cos(x), (x, 0, sym.pi / 2))\n",
        "value"
      ],
      "metadata": {
        "colab": {
          "base_uri": "https://localhost:8080/",
          "height": 51
        },
        "id": "_h7OEn_5LP0c",
        "outputId": "b32fb783-1570-4a61-e108-7cb5dd4d5a41"
      },
      "execution_count": 14,
      "outputs": [
        {
          "output_type": "execute_result",
          "data": {
            "text/plain": [
              "1/2"
            ],
            "text/latex": "$\\displaystyle \\frac{1}{2}$"
          },
          "metadata": {},
          "execution_count": 14
        }
      ]
    },
    {
      "cell_type": "code",
      "source": [
        "import numpy as np\n",
        "\n",
        "xs = np.linspace(-4,4,100)\n",
        "point = -2\n",
        "f = sym.sin(x) + sym.cos(x)\n",
        "fLam = sym.lambdify('x', f)\n",
        "fdLam = sym.lambdify('x', sym.diff(f))\n",
        "derived = fLam(point) + (fdLam(point) * (xs - point))\n",
        "f\n",
        "derived"
      ],
      "metadata": {
        "colab": {
          "base_uri": "https://localhost:8080/"
        },
        "id": "cyyOyFrKLSLf",
        "outputId": "10361849-133d-4c06-cb55-c95ad8bd59ba"
      },
      "execution_count": 15,
      "outputs": [
        {
          "output_type": "execute_result",
          "data": {
            "text/plain": [
              "array([-2.31174544e+00, -2.27189489e+00, -2.23204434e+00, -2.19219379e+00,\n",
              "       -2.15234323e+00, -2.11249268e+00, -2.07264213e+00, -2.03279157e+00,\n",
              "       -1.99294102e+00, -1.95309047e+00, -1.91323992e+00, -1.87338936e+00,\n",
              "       -1.83353881e+00, -1.79368826e+00, -1.75383771e+00, -1.71398715e+00,\n",
              "       -1.67413660e+00, -1.63428605e+00, -1.59443549e+00, -1.55458494e+00,\n",
              "       -1.51473439e+00, -1.47488384e+00, -1.43503328e+00, -1.39518273e+00,\n",
              "       -1.35533218e+00, -1.31548163e+00, -1.27563107e+00, -1.23578052e+00,\n",
              "       -1.19592997e+00, -1.15607941e+00, -1.11622886e+00, -1.07637831e+00,\n",
              "       -1.03652776e+00, -9.96677203e-01, -9.56826650e-01, -9.16976098e-01,\n",
              "       -8.77125545e-01, -8.37274992e-01, -7.97424439e-01, -7.57573887e-01,\n",
              "       -7.17723334e-01, -6.77872781e-01, -6.38022228e-01, -5.98171676e-01,\n",
              "       -5.58321123e-01, -5.18470570e-01, -4.78620017e-01, -4.38769465e-01,\n",
              "       -3.98918912e-01, -3.59068359e-01, -3.19217806e-01, -2.79367254e-01,\n",
              "       -2.39516701e-01, -1.99666148e-01, -1.59815595e-01, -1.19965043e-01,\n",
              "       -8.01144899e-02, -4.02639372e-02, -4.13384443e-04,  3.94371683e-02,\n",
              "        7.92877211e-02,  1.19138274e-01,  1.58988827e-01,  1.98839379e-01,\n",
              "        2.38689932e-01,  2.78540485e-01,  3.18391038e-01,  3.58241590e-01,\n",
              "        3.98092143e-01,  4.37942696e-01,  4.77793249e-01,  5.17643801e-01,\n",
              "        5.57494354e-01,  5.97344907e-01,  6.37195460e-01,  6.77046012e-01,\n",
              "        7.16896565e-01,  7.56747118e-01,  7.96597671e-01,  8.36448223e-01,\n",
              "        8.76298776e-01,  9.16149329e-01,  9.55999882e-01,  9.95850434e-01,\n",
              "        1.03570099e+00,  1.07555154e+00,  1.11540209e+00,  1.15525265e+00,\n",
              "        1.19510320e+00,  1.23495375e+00,  1.27480430e+00,  1.31465486e+00,\n",
              "        1.35450541e+00,  1.39435596e+00,  1.43420651e+00,  1.47405707e+00,\n",
              "        1.51390762e+00,  1.55375817e+00,  1.59360873e+00,  1.63345928e+00])"
            ]
          },
          "metadata": {},
          "execution_count": 15
        }
      ]
    },
    {
      "cell_type": "code",
      "source": [
        "import matplotlib.pyplot as plt\n",
        "\n",
        "plt.plot(xs, fLam(xs), lw = 2, color = 'k', zorder = 1, label = 'f(x)')\n",
        "plt.scatter(point, fLam(point), color = 'r', zorder = 2, label = r'$f(x_0)$')\n",
        "plt.plot(xs, derived, lw = 2, color = 'b', zorder =1, label = r'$f(x_0) + (\\nabla_xf)(x_0)(x-x_0)$')\n",
        "plt.axis([-4, 4, -3, 5])\n",
        "plt.legend(loc = 1);"
      ],
      "metadata": {
        "colab": {
          "base_uri": "https://localhost:8080/",
          "height": 435
        },
        "id": "O0EAkUsCLTlK",
        "outputId": "b1458201-3078-456e-b6e2-5daa47ac61b0"
      },
      "execution_count": 16,
      "outputs": [
        {
          "output_type": "display_data",
          "data": {
            "text/plain": [
              "<Figure size 640x480 with 1 Axes>"
            ],
            "image/png": "[encoded data removed]"
          },
          "metadata": {}
        }
      ]
    },
    {
      "cell_type": "code",
      "source": [
        "import autograd.numpy as np # a concise version of numpy\n",
        "from autograd import grad, jacobian\n",
        "\n",
        "x = np.array([5, 3], dtype = float)\n",
        "\n",
        "def cost(x):\n",
        "    return x[0] ** 2 / x[1] - np.log(x[1])\n",
        "\n",
        "gradient_cost = grad(cost)\n",
        "jacobian_cost = jacobian(cost)\n",
        "gradient_cost(x)\n",
        "jacobian_cost(np.array([x, x, x]))"
      ],
      "metadata": {
        "colab": {
          "base_uri": "https://localhost:8080/"
        },
        "id": "-KPs-AvZLYzd",
        "outputId": "a4882dbd-3b87-45f0-acf0-6819affce2a1"
      },
      "execution_count": 17,
      "outputs": [
        {
          "output_type": "execute_result",
          "data": {
            "text/plain": [
              "array([[[ 2.        ,  0.        ],\n",
              "        [-1.2       ,  0.        ],\n",
              "        [ 0.        ,  0.        ]],\n",
              "\n",
              "       [[ 0.        ,  2.        ],\n",
              "        [ 0.        , -1.33333333],\n",
              "        [ 0.        ,  0.        ]]])"
            ]
          },
          "metadata": {},
          "execution_count": 17
        }
      ]
    },
    {
      "cell_type": "code",
      "source": [
        "from sympy import sin, cos, Matrix\n",
        "from sympy.abc import rho, phi\n",
        "\n",
        "X = Matrix([rho * cos(phi), rho * sin(phi), rho ** 2])\n",
        "Y = Matrix([rho, phi])\n",
        "X.jacobian(Y)"
      ],
      "metadata": {
        "colab": {
          "base_uri": "https://localhost:8080/",
          "height": 78
        },
        "id": "ziPlk3vpLaON",
        "outputId": "3fae1b1a-c59e-4eaf-fa33-201a98ec2636"
      },
      "execution_count": 18,
      "outputs": [
        {
          "output_type": "execute_result",
          "data": {
            "text/plain": [
              "Matrix([\n",
              "[cos(phi), -rho*sin(phi)],\n",
              "[sin(phi),  rho*cos(phi)],\n",
              "[   2*rho,             0]])"
            ],
            "text/latex": "$\\displaystyle \\left[\\begin{matrix}\\cos{\\left(\\phi \\right)} & - \\rho \\sin{\\left(\\phi \\right)}\\\\\\sin{\\left(\\phi \\right)} & \\rho \\cos{\\left(\\phi \\right)}\\\\2 \\rho & 0\\end{matrix}\\right]$"
          },
          "metadata": {},
          "execution_count": 18
        }
      ]
    }
  ]
}